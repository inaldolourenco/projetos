{
  "nbformat": 4,
  "nbformat_minor": 0,
  "metadata": {
    "colab": {
      "name": "analise_pressao_atmosferica.ipynb",
      "provenance": [],
      "collapsed_sections": [],
      "include_colab_link": true
    },
    "kernelspec": {
      "name": "python3",
      "display_name": "Python 3"
    }
  },
  "cells": [
    {
      "cell_type": "markdown",
      "metadata": {
        "id": "view-in-github",
        "colab_type": "text"
      },
      "source": [
        "<a href=\"https://colab.research.google.com/github/inaldolourenco/projetos/blob/master/analise_pressao_atmosferica.ipynb\" target=\"_parent\"><img src=\"https://colab.research.google.com/assets/colab-badge.svg\" alt=\"Open In Colab\"/></a>"
      ]
    },
    {
      "cell_type": "code",
      "metadata": {
        "id": "mhsXcP1UE9Q6"
      },
      "source": [
        "#importando as bibliotecas\n",
        "import pandas as pd \n",
        "import numpy as np\n",
        "from matplotlib import pyplot as plt\n",
        "import seaborn as sns\n",
        "import datetime"
      ],
      "execution_count": 1,
      "outputs": []
    },
    {
      "cell_type": "code",
      "metadata": {
        "id": "DQnY4YHvFNUR",
        "outputId": "fc4644f2-acbb-4c57-be2c-09303087e3c9",
        "colab": {
          "resources": {
            "http://localhost:8080/nbextensions/google.colab/files.js": {
              "data": "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",
              "ok": true,
              "headers": [
                [
                  "content-type",
                  "application/javascript"
                ]
              ],
              "status": 200,
              "status_text": ""
            }
          },
          "base_uri": "https://localhost:8080/",
          "height": 73
        }
      },
      "source": [
        "#importando o nosso dataset\n",
        "from google.colab import files\n",
        "uploaded = files.upload()"
      ],
      "execution_count": 2,
      "outputs": [
        {
          "output_type": "display_data",
          "data": {
            "text/html": [
              "\n",
              "     <input type=\"file\" id=\"files-c13e040b-86f3-4fa9-a705-91180c64f176\" name=\"files[]\" multiple disabled\n",
              "        style=\"border:none\" />\n",
              "     <output id=\"result-c13e040b-86f3-4fa9-a705-91180c64f176\">\n",
              "      Upload widget is only available when the cell has been executed in the\n",
              "      current browser session. Please rerun this cell to enable.\n",
              "      </output>\n",
              "      <script src=\"/nbextensions/google.colab/files.js\"></script> "
            ],
            "text/plain": [
              "<IPython.core.display.HTML object>"
            ]
          },
          "metadata": {
            "tags": []
          }
        },
        {
          "output_type": "stream",
          "text": [
            "Saving PRSA_data_2010.1.1-2014.12.31.csv to PRSA_data_2010.1.1-2014.12.31.csv\n"
          ],
          "name": "stdout"
        }
      ]
    },
    {
      "cell_type": "code",
      "metadata": {
        "id": "P3VxiwjCQFre"
      },
      "source": [
        "#lendo o dataset para o formato de dataframe\n",
        "df_poluicao_beijing=pd.read_csv(\"PRSA_data_2010.1.1-2014.12.31.csv\")"
      ],
      "execution_count": 3,
      "outputs": []
    },
    {
      "cell_type": "code",
      "metadata": {
        "id": "7LMCttsvRSl6",
        "outputId": "59c898b2-9952-4ead-f0fa-541674ff9366",
        "colab": {
          "base_uri": "https://localhost:8080/",
          "height": 197
        }
      },
      "source": [
        "#conhecendo o dataset\n",
        "df_poluicao_beijing.head()"
      ],
      "execution_count": 4,
      "outputs": [
        {
          "output_type": "execute_result",
          "data": {
            "text/html": [
              "<div>\n",
              "<style scoped>\n",
              "    .dataframe tbody tr th:only-of-type {\n",
              "        vertical-align: middle;\n",
              "    }\n",
              "\n",
              "    .dataframe tbody tr th {\n",
              "        vertical-align: top;\n",
              "    }\n",
              "\n",
              "    .dataframe thead th {\n",
              "        text-align: right;\n",
              "    }\n",
              "</style>\n",
              "<table border=\"1\" class=\"dataframe\">\n",
              "  <thead>\n",
              "    <tr style=\"text-align: right;\">\n",
              "      <th></th>\n",
              "      <th>No</th>\n",
              "      <th>year</th>\n",
              "      <th>month</th>\n",
              "      <th>day</th>\n",
              "      <th>hour</th>\n",
              "      <th>pm2.5</th>\n",
              "      <th>DEWP</th>\n",
              "      <th>TEMP</th>\n",
              "      <th>PRES</th>\n",
              "      <th>cbwd</th>\n",
              "      <th>Iws</th>\n",
              "      <th>Is</th>\n",
              "      <th>Ir</th>\n",
              "    </tr>\n",
              "  </thead>\n",
              "  <tbody>\n",
              "    <tr>\n",
              "      <th>0</th>\n",
              "      <td>1</td>\n",
              "      <td>2010</td>\n",
              "      <td>1</td>\n",
              "      <td>1</td>\n",
              "      <td>0</td>\n",
              "      <td>NaN</td>\n",
              "      <td>-21</td>\n",
              "      <td>-11.0</td>\n",
              "      <td>1021.0</td>\n",
              "      <td>NW</td>\n",
              "      <td>1.79</td>\n",
              "      <td>0</td>\n",
              "      <td>0</td>\n",
              "    </tr>\n",
              "    <tr>\n",
              "      <th>1</th>\n",
              "      <td>2</td>\n",
              "      <td>2010</td>\n",
              "      <td>1</td>\n",
              "      <td>1</td>\n",
              "      <td>1</td>\n",
              "      <td>NaN</td>\n",
              "      <td>-21</td>\n",
              "      <td>-12.0</td>\n",
              "      <td>1020.0</td>\n",
              "      <td>NW</td>\n",
              "      <td>4.92</td>\n",
              "      <td>0</td>\n",
              "      <td>0</td>\n",
              "    </tr>\n",
              "    <tr>\n",
              "      <th>2</th>\n",
              "      <td>3</td>\n",
              "      <td>2010</td>\n",
              "      <td>1</td>\n",
              "      <td>1</td>\n",
              "      <td>2</td>\n",
              "      <td>NaN</td>\n",
              "      <td>-21</td>\n",
              "      <td>-11.0</td>\n",
              "      <td>1019.0</td>\n",
              "      <td>NW</td>\n",
              "      <td>6.71</td>\n",
              "      <td>0</td>\n",
              "      <td>0</td>\n",
              "    </tr>\n",
              "    <tr>\n",
              "      <th>3</th>\n",
              "      <td>4</td>\n",
              "      <td>2010</td>\n",
              "      <td>1</td>\n",
              "      <td>1</td>\n",
              "      <td>3</td>\n",
              "      <td>NaN</td>\n",
              "      <td>-21</td>\n",
              "      <td>-14.0</td>\n",
              "      <td>1019.0</td>\n",
              "      <td>NW</td>\n",
              "      <td>9.84</td>\n",
              "      <td>0</td>\n",
              "      <td>0</td>\n",
              "    </tr>\n",
              "    <tr>\n",
              "      <th>4</th>\n",
              "      <td>5</td>\n",
              "      <td>2010</td>\n",
              "      <td>1</td>\n",
              "      <td>1</td>\n",
              "      <td>4</td>\n",
              "      <td>NaN</td>\n",
              "      <td>-20</td>\n",
              "      <td>-12.0</td>\n",
              "      <td>1018.0</td>\n",
              "      <td>NW</td>\n",
              "      <td>12.97</td>\n",
              "      <td>0</td>\n",
              "      <td>0</td>\n",
              "    </tr>\n",
              "  </tbody>\n",
              "</table>\n",
              "</div>"
            ],
            "text/plain": [
              "   No  year  month  day  hour  pm2.5  DEWP  TEMP    PRES cbwd    Iws  Is  Ir\n",
              "0   1  2010      1    1     0    NaN   -21 -11.0  1021.0   NW   1.79   0   0\n",
              "1   2  2010      1    1     1    NaN   -21 -12.0  1020.0   NW   4.92   0   0\n",
              "2   3  2010      1    1     2    NaN   -21 -11.0  1019.0   NW   6.71   0   0\n",
              "3   4  2010      1    1     3    NaN   -21 -14.0  1019.0   NW   9.84   0   0\n",
              "4   5  2010      1    1     4    NaN   -20 -12.0  1018.0   NW  12.97   0   0"
            ]
          },
          "metadata": {
            "tags": []
          },
          "execution_count": 4
        }
      ]
    },
    {
      "cell_type": "code",
      "metadata": {
        "id": "Is8RfeICRnhO",
        "outputId": "9be0c61a-d7bc-4d90-8434-54b7ea5bf30a",
        "colab": {
          "base_uri": "https://localhost:8080/",
          "height": 34
        }
      },
      "source": [
        "#verificando o shape do dataset  / linhas 43824, colunas 13\n",
        "df_poluicao_beijing.shape"
      ],
      "execution_count": 5,
      "outputs": [
        {
          "output_type": "execute_result",
          "data": {
            "text/plain": [
              "(43824, 13)"
            ]
          },
          "metadata": {
            "tags": []
          },
          "execution_count": 5
        }
      ]
    },
    {
      "cell_type": "code",
      "metadata": {
        "id": "ptvRICxlRuEX",
        "outputId": "76763c8c-f59c-4aa9-c868-1915bda325c8",
        "colab": {
          "base_uri": "https://localhost:8080/",
          "height": 364
        }
      },
      "source": [
        "#verificando o formato do dataset\n",
        "df_poluicao_beijing.info()"
      ],
      "execution_count": 7,
      "outputs": [
        {
          "output_type": "stream",
          "text": [
            "<class 'pandas.core.frame.DataFrame'>\n",
            "RangeIndex: 43824 entries, 0 to 43823\n",
            "Data columns (total 13 columns):\n",
            " #   Column  Non-Null Count  Dtype  \n",
            "---  ------  --------------  -----  \n",
            " 0   No      43824 non-null  int64  \n",
            " 1   year    43824 non-null  int64  \n",
            " 2   month   43824 non-null  int64  \n",
            " 3   day     43824 non-null  int64  \n",
            " 4   hour    43824 non-null  int64  \n",
            " 5   pm2.5   41757 non-null  float64\n",
            " 6   DEWP    43824 non-null  int64  \n",
            " 7   TEMP    43824 non-null  float64\n",
            " 8   PRES    43824 non-null  float64\n",
            " 9   cbwd    43824 non-null  object \n",
            " 10  Iws     43824 non-null  float64\n",
            " 11  Is      43824 non-null  int64  \n",
            " 12  Ir      43824 non-null  int64  \n",
            "dtypes: float64(4), int64(8), object(1)\n",
            "memory usage: 4.3+ MB\n"
          ],
          "name": "stdout"
        }
      ]
    },
    {
      "cell_type": "code",
      "metadata": {
        "id": "XfCHmYepRYC2",
        "outputId": "49764c98-ea79-454b-aa5c-c463bd558025",
        "colab": {
          "base_uri": "https://localhost:8080/",
          "height": 260
        }
      },
      "source": [
        "#contando valores nulos / a maioria das colunas não possuem valores nulos apenas a pm2.5 possui 2067\n",
        "df_poluicao_beijing.isnull().sum()"
      ],
      "execution_count": 8,
      "outputs": [
        {
          "output_type": "execute_result",
          "data": {
            "text/plain": [
              "No          0\n",
              "year        0\n",
              "month       0\n",
              "day         0\n",
              "hour        0\n",
              "pm2.5    2067\n",
              "DEWP        0\n",
              "TEMP        0\n",
              "PRES        0\n",
              "cbwd        0\n",
              "Iws         0\n",
              "Is          0\n",
              "Ir          0\n",
              "dtype: int64"
            ]
          },
          "metadata": {
            "tags": []
          },
          "execution_count": 8
        }
      ]
    },
    {
      "cell_type": "code",
      "metadata": {
        "id": "Nohfv463R3ym"
      },
      "source": [
        "#obtendo os dados em formato de datetime / aplica a função lambda para realizar o agrupamento na coluna datetime\n",
        "df_poluicao_beijing['datetime']=df_poluicao_beijing[['year', 'month', 'day', 'hour']].apply(lambda row: datetime.datetime(year=row['year'],month=row['month'], day=row['day'],hour=row['hour']), axis=1)"
      ],
      "execution_count": 10,
      "outputs": []
    },
    {
      "cell_type": "code",
      "metadata": {
        "id": "iBPvit5FR34A",
        "outputId": "3a77a746-5c48-4ce5-ff8f-0b17b46b0cc6",
        "colab": {
          "base_uri": "https://localhost:8080/",
          "height": 202
        }
      },
      "source": [
        "#mostrando a modificação\n",
        "df_poluicao_beijing.head()"
      ],
      "execution_count": 11,
      "outputs": [
        {
          "output_type": "execute_result",
          "data": {
            "text/html": [
              "<div>\n",
              "<style scoped>\n",
              "    .dataframe tbody tr th:only-of-type {\n",
              "        vertical-align: middle;\n",
              "    }\n",
              "\n",
              "    .dataframe tbody tr th {\n",
              "        vertical-align: top;\n",
              "    }\n",
              "\n",
              "    .dataframe thead th {\n",
              "        text-align: right;\n",
              "    }\n",
              "</style>\n",
              "<table border=\"1\" class=\"dataframe\">\n",
              "  <thead>\n",
              "    <tr style=\"text-align: right;\">\n",
              "      <th></th>\n",
              "      <th>No</th>\n",
              "      <th>year</th>\n",
              "      <th>month</th>\n",
              "      <th>day</th>\n",
              "      <th>hour</th>\n",
              "      <th>pm2.5</th>\n",
              "      <th>DEWP</th>\n",
              "      <th>TEMP</th>\n",
              "      <th>PRES</th>\n",
              "      <th>cbwd</th>\n",
              "      <th>Iws</th>\n",
              "      <th>Is</th>\n",
              "      <th>Ir</th>\n",
              "      <th>datetime</th>\n",
              "    </tr>\n",
              "  </thead>\n",
              "  <tbody>\n",
              "    <tr>\n",
              "      <th>0</th>\n",
              "      <td>1</td>\n",
              "      <td>2010</td>\n",
              "      <td>1</td>\n",
              "      <td>1</td>\n",
              "      <td>0</td>\n",
              "      <td>NaN</td>\n",
              "      <td>-21</td>\n",
              "      <td>-11.0</td>\n",
              "      <td>1021.0</td>\n",
              "      <td>NW</td>\n",
              "      <td>1.79</td>\n",
              "      <td>0</td>\n",
              "      <td>0</td>\n",
              "      <td>2010-01-01 00:00:00</td>\n",
              "    </tr>\n",
              "    <tr>\n",
              "      <th>1</th>\n",
              "      <td>2</td>\n",
              "      <td>2010</td>\n",
              "      <td>1</td>\n",
              "      <td>1</td>\n",
              "      <td>1</td>\n",
              "      <td>NaN</td>\n",
              "      <td>-21</td>\n",
              "      <td>-12.0</td>\n",
              "      <td>1020.0</td>\n",
              "      <td>NW</td>\n",
              "      <td>4.92</td>\n",
              "      <td>0</td>\n",
              "      <td>0</td>\n",
              "      <td>2010-01-01 01:00:00</td>\n",
              "    </tr>\n",
              "    <tr>\n",
              "      <th>2</th>\n",
              "      <td>3</td>\n",
              "      <td>2010</td>\n",
              "      <td>1</td>\n",
              "      <td>1</td>\n",
              "      <td>2</td>\n",
              "      <td>NaN</td>\n",
              "      <td>-21</td>\n",
              "      <td>-11.0</td>\n",
              "      <td>1019.0</td>\n",
              "      <td>NW</td>\n",
              "      <td>6.71</td>\n",
              "      <td>0</td>\n",
              "      <td>0</td>\n",
              "      <td>2010-01-01 02:00:00</td>\n",
              "    </tr>\n",
              "    <tr>\n",
              "      <th>3</th>\n",
              "      <td>4</td>\n",
              "      <td>2010</td>\n",
              "      <td>1</td>\n",
              "      <td>1</td>\n",
              "      <td>3</td>\n",
              "      <td>NaN</td>\n",
              "      <td>-21</td>\n",
              "      <td>-14.0</td>\n",
              "      <td>1019.0</td>\n",
              "      <td>NW</td>\n",
              "      <td>9.84</td>\n",
              "      <td>0</td>\n",
              "      <td>0</td>\n",
              "      <td>2010-01-01 03:00:00</td>\n",
              "    </tr>\n",
              "    <tr>\n",
              "      <th>4</th>\n",
              "      <td>5</td>\n",
              "      <td>2010</td>\n",
              "      <td>1</td>\n",
              "      <td>1</td>\n",
              "      <td>4</td>\n",
              "      <td>NaN</td>\n",
              "      <td>-20</td>\n",
              "      <td>-12.0</td>\n",
              "      <td>1018.0</td>\n",
              "      <td>NW</td>\n",
              "      <td>12.97</td>\n",
              "      <td>0</td>\n",
              "      <td>0</td>\n",
              "      <td>2010-01-01 04:00:00</td>\n",
              "    </tr>\n",
              "  </tbody>\n",
              "</table>\n",
              "</div>"
            ],
            "text/plain": [
              "   No  year  month  day  hour  ...  cbwd    Iws  Is  Ir            datetime\n",
              "0   1  2010      1    1     0  ...    NW   1.79   0   0 2010-01-01 00:00:00\n",
              "1   2  2010      1    1     1  ...    NW   4.92   0   0 2010-01-01 01:00:00\n",
              "2   3  2010      1    1     2  ...    NW   6.71   0   0 2010-01-01 02:00:00\n",
              "3   4  2010      1    1     3  ...    NW   9.84   0   0 2010-01-01 03:00:00\n",
              "4   5  2010      1    1     4  ...    NW  12.97   0   0 2010-01-01 04:00:00\n",
              "\n",
              "[5 rows x 14 columns]"
            ]
          },
          "metadata": {
            "tags": []
          },
          "execution_count": 11
        }
      ]
    },
    {
      "cell_type": "code",
      "metadata": {
        "id": "hWWwnfEMXZQU",
        "outputId": "d2eff88d-ff5a-49bb-9071-08ece34f78fa",
        "colab": {
          "base_uri": "https://localhost:8080/",
          "height": 52
        }
      },
      "source": [
        "#encontrando as datas máximas e mínimas do dataset\n",
        "print('Data inicial de coleta',df_poluicao_beijing['datetime'].min())\n",
        "print('Data final de coleta',df_poluicao_beijing['datetime'].max())"
      ],
      "execution_count": 12,
      "outputs": [
        {
          "output_type": "stream",
          "text": [
            "Data inicial de coleta 2010-01-01 00:00:00\n",
            "Data final de coleta 2014-12-31 23:00:00\n"
          ],
          "name": "stdout"
        }
      ]
    },
    {
      "cell_type": "code",
      "metadata": {
        "id": "1tKi0os6R369",
        "outputId": "daf228dd-b278-4946-87c2-345988116a31",
        "colab": {
          "base_uri": "https://localhost:8080/",
          "height": 202
        }
      },
      "source": [
        "df_pressao_atmosferica=df_poluicao_beijing[['datetime','PRES']] #pressão em hPa  (hectopascal)\n",
        "df_pressao_atmosferica.head()"
      ],
      "execution_count": 14,
      "outputs": [
        {
          "output_type": "execute_result",
          "data": {
            "text/html": [
              "<div>\n",
              "<style scoped>\n",
              "    .dataframe tbody tr th:only-of-type {\n",
              "        vertical-align: middle;\n",
              "    }\n",
              "\n",
              "    .dataframe tbody tr th {\n",
              "        vertical-align: top;\n",
              "    }\n",
              "\n",
              "    .dataframe thead th {\n",
              "        text-align: right;\n",
              "    }\n",
              "</style>\n",
              "<table border=\"1\" class=\"dataframe\">\n",
              "  <thead>\n",
              "    <tr style=\"text-align: right;\">\n",
              "      <th></th>\n",
              "      <th>datetime</th>\n",
              "      <th>PRES</th>\n",
              "    </tr>\n",
              "  </thead>\n",
              "  <tbody>\n",
              "    <tr>\n",
              "      <th>0</th>\n",
              "      <td>2010-01-01 00:00:00</td>\n",
              "      <td>1021.0</td>\n",
              "    </tr>\n",
              "    <tr>\n",
              "      <th>1</th>\n",
              "      <td>2010-01-01 01:00:00</td>\n",
              "      <td>1020.0</td>\n",
              "    </tr>\n",
              "    <tr>\n",
              "      <th>2</th>\n",
              "      <td>2010-01-01 02:00:00</td>\n",
              "      <td>1019.0</td>\n",
              "    </tr>\n",
              "    <tr>\n",
              "      <th>3</th>\n",
              "      <td>2010-01-01 03:00:00</td>\n",
              "      <td>1019.0</td>\n",
              "    </tr>\n",
              "    <tr>\n",
              "      <th>4</th>\n",
              "      <td>2010-01-01 04:00:00</td>\n",
              "      <td>1018.0</td>\n",
              "    </tr>\n",
              "  </tbody>\n",
              "</table>\n",
              "</div>"
            ],
            "text/plain": [
              "             datetime    PRES\n",
              "0 2010-01-01 00:00:00  1021.0\n",
              "1 2010-01-01 01:00:00  1020.0\n",
              "2 2010-01-01 02:00:00  1019.0\n",
              "3 2010-01-01 03:00:00  1019.0\n",
              "4 2010-01-01 04:00:00  1018.0"
            ]
          },
          "metadata": {
            "tags": []
          },
          "execution_count": 14
        }
      ]
    },
    {
      "cell_type": "code",
      "metadata": {
        "id": "3w1L3pGPR39t",
        "outputId": "34bf74c0-a9a2-46cc-d1fe-1e4d3b54f787",
        "colab": {
          "base_uri": "https://localhost:8080/",
          "height": 104
        }
      },
      "source": [
        "#Função sort_values realiza o ordenamento dos dados\n",
        "df_pressao_atmosferica.sort_values('datetime', ascending=True, inplace=True) #ordenando os valores pela data"
      ],
      "execution_count": 17,
      "outputs": [
        {
          "output_type": "stream",
          "text": [
            "/usr/local/lib/python3.6/dist-packages/ipykernel_launcher.py:2: SettingWithCopyWarning: \n",
            "A value is trying to be set on a copy of a slice from a DataFrame\n",
            "\n",
            "See the caveats in the documentation: https://pandas.pydata.org/pandas-docs/stable/user_guide/indexing.html#returning-a-view-versus-a-copy\n",
            "  \n"
          ],
          "name": "stderr"
        }
      ]
    },
    {
      "cell_type": "code",
      "metadata": {
        "id": "pegB0tSoTsT5",
        "outputId": "dcda2006-5256-4ba7-9fd7-2e98f9af5add",
        "colab": {
          "base_uri": "https://localhost:8080/",
          "height": 202
        }
      },
      "source": [
        "#confirma a ordenação dos dados\n",
        "df_pressao_atmosferica.head()"
      ],
      "execution_count": 18,
      "outputs": [
        {
          "output_type": "execute_result",
          "data": {
            "text/html": [
              "<div>\n",
              "<style scoped>\n",
              "    .dataframe tbody tr th:only-of-type {\n",
              "        vertical-align: middle;\n",
              "    }\n",
              "\n",
              "    .dataframe tbody tr th {\n",
              "        vertical-align: top;\n",
              "    }\n",
              "\n",
              "    .dataframe thead th {\n",
              "        text-align: right;\n",
              "    }\n",
              "</style>\n",
              "<table border=\"1\" class=\"dataframe\">\n",
              "  <thead>\n",
              "    <tr style=\"text-align: right;\">\n",
              "      <th></th>\n",
              "      <th>datetime</th>\n",
              "      <th>PRES</th>\n",
              "    </tr>\n",
              "  </thead>\n",
              "  <tbody>\n",
              "    <tr>\n",
              "      <th>0</th>\n",
              "      <td>2010-01-01 00:00:00</td>\n",
              "      <td>1021.0</td>\n",
              "    </tr>\n",
              "    <tr>\n",
              "      <th>1</th>\n",
              "      <td>2010-01-01 01:00:00</td>\n",
              "      <td>1020.0</td>\n",
              "    </tr>\n",
              "    <tr>\n",
              "      <th>2</th>\n",
              "      <td>2010-01-01 02:00:00</td>\n",
              "      <td>1019.0</td>\n",
              "    </tr>\n",
              "    <tr>\n",
              "      <th>3</th>\n",
              "      <td>2010-01-01 03:00:00</td>\n",
              "      <td>1019.0</td>\n",
              "    </tr>\n",
              "    <tr>\n",
              "      <th>4</th>\n",
              "      <td>2010-01-01 04:00:00</td>\n",
              "      <td>1018.0</td>\n",
              "    </tr>\n",
              "  </tbody>\n",
              "</table>\n",
              "</div>"
            ],
            "text/plain": [
              "             datetime    PRES\n",
              "0 2010-01-01 00:00:00  1021.0\n",
              "1 2010-01-01 01:00:00  1020.0\n",
              "2 2010-01-01 02:00:00  1019.0\n",
              "3 2010-01-01 03:00:00  1019.0\n",
              "4 2010-01-01 04:00:00  1018.0"
            ]
          },
          "metadata": {
            "tags": []
          },
          "execution_count": 18
        }
      ]
    },
    {
      "cell_type": "code",
      "metadata": {
        "id": "Ov-qfholTsWV",
        "outputId": "a036bf42-1369-46d3-a745-2b1bc701614a",
        "colab": {
          "base_uri": "https://localhost:8080/",
          "height": 530
        }
      },
      "source": [
        "#verificando possíveis outlier com o boxplot / dados coletados através de sensores / caso tivesse outlier precisaria analisar os dados\n",
        "plt.figure(figsize=(7, 7))\n",
        "g = sns.boxplot(df_pressao_atmosferica['PRES'])\n",
        "g.set_title('Box plot para a Pressão Atmosférica')"
      ],
      "execution_count": 19,
      "outputs": [
        {
          "output_type": "stream",
          "text": [
            "/usr/local/lib/python3.6/dist-packages/seaborn/_decorators.py:43: FutureWarning: Pass the following variable as a keyword arg: x. From version 0.12, the only valid positional argument will be `data`, and passing other arguments without an explicit keyword will result in an error or misinterpretation.\n",
            "  FutureWarning\n"
          ],
          "name": "stderr"
        },
        {
          "output_type": "execute_result",
          "data": {
            "text/plain": [
              "Text(0.5, 1.0, 'Box plot para a Pressão Atmosférica')"
            ]
          },
          "metadata": {
            "tags": []
          },
          "execution_count": 19
        },
        {
          "output_type": "display_data",
          "data": {
            "image/png": "[encoded data removed]",
            "text/plain": [
              "<Figure size 504x504 with 1 Axes>"
            ]
          },
          "metadata": {
            "tags": [],
            "needs_background": "light"
          }
        }
      ]
    },
    {
      "cell_type": "code",
      "metadata": {
        "id": "QBCURfaCUspW",
        "outputId": "b28c3f0f-44c0-49fa-d168-76fab4269d4e",
        "colab": {
          "base_uri": "https://localhost:8080/",
          "height": 476
        }
      },
      "source": [
        "#plotando os valores de pressão atmosférica\n",
        "plt.figure(figsize=(7, 7))\n",
        "g = sns.lineplot(x=df_pressao_atmosferica.index,y=df_pressao_atmosferica['PRES'])\n",
        "g.set_title('Serie temporal para a pressão atmosférica')\n",
        "g.set_xlabel('Indice do dataset')\n",
        "g.set_ylabel('Pressão Atmosférica em hPa')"
      ],
      "execution_count": 20,
      "outputs": [
        {
          "output_type": "execute_result",
          "data": {
            "text/plain": [
              "Text(0, 0.5, 'Pressão Atmosférica em hPa')"
            ]
          },
          "metadata": {
            "tags": []
          },
          "execution_count": 20
        },
        {
          "output_type": "display_data",
          "data": {
            "image/png": "[encoded data removed]",
            "text/plain": [
              "<Figure size 504x504 with 1 Axes>"
            ]
          },
          "metadata": {
            "tags": [],
            "needs_background": "light"
          }
        }
      ]
    },
    {
      "cell_type": "markdown",
      "metadata": {
        "id": "2QxUB4v8WjL1"
      },
      "source": [
        "**Preparando os dados para serem utilizados no modelo de previsão via MLP**"
      ]
    },
    {
      "cell_type": "code",
      "metadata": {
        "id": "oB6EYNDuTsZC",
        "outputId": "f9ad6fa0-e11c-4167-cd3c-d769cea8602d",
        "colab": {
          "base_uri": "https://localhost:8080/",
          "height": 121
        }
      },
      "source": [
        "from sklearn.preprocessing import MinMaxScaler  #aplicando a normalização dos dados\n",
        "scaler = MinMaxScaler(feature_range=(0, 1))  #define o intervalor entre 0 e 1 para os dados serem normalizados\n",
        "df_pressao_atmosferica['PRES_normalizado'] = scaler.fit_transform(np.array(df_pressao_atmosferica['PRES']).reshape(-1, 1)) # passa dus dimensoes "
      ],
      "execution_count": 27,
      "outputs": [
        {
          "output_type": "stream",
          "text": [
            "/usr/local/lib/python3.6/dist-packages/ipykernel_launcher.py:3: SettingWithCopyWarning: \n",
            "A value is trying to be set on a copy of a slice from a DataFrame.\n",
            "Try using .loc[row_indexer,col_indexer] = value instead\n",
            "\n",
            "See the caveats in the documentation: https://pandas.pydata.org/pandas-docs/stable/user_guide/indexing.html#returning-a-view-versus-a-copy\n",
            "  This is separate from the ipykernel package so we can avoid doing imports until\n"
          ],
          "name": "stderr"
        }
      ]
    },
    {
      "cell_type": "code",
      "metadata": {
        "id": "rT62XBIYTsb2",
        "outputId": "1da2199d-b34b-41dd-ae52-e0023ed5316c",
        "colab": {
          "base_uri": "https://localhost:8080/",
          "height": 202
        }
      },
      "source": [
        "#os valores normalizados passam para -1 a 1\n",
        "df_pressao_atmosferica.head()"
      ],
      "execution_count": 28,
      "outputs": [
        {
          "output_type": "execute_result",
          "data": {
            "text/html": [
              "<div>\n",
              "<style scoped>\n",
              "    .dataframe tbody tr th:only-of-type {\n",
              "        vertical-align: middle;\n",
              "    }\n",
              "\n",
              "    .dataframe tbody tr th {\n",
              "        vertical-align: top;\n",
              "    }\n",
              "\n",
              "    .dataframe thead th {\n",
              "        text-align: right;\n",
              "    }\n",
              "</style>\n",
              "<table border=\"1\" class=\"dataframe\">\n",
              "  <thead>\n",
              "    <tr style=\"text-align: right;\">\n",
              "      <th></th>\n",
              "      <th>datetime</th>\n",
              "      <th>PRES</th>\n",
              "      <th>PRES_normalizado</th>\n",
              "    </tr>\n",
              "  </thead>\n",
              "  <tbody>\n",
              "    <tr>\n",
              "      <th>0</th>\n",
              "      <td>2010-01-01 00:00:00</td>\n",
              "      <td>1021.0</td>\n",
              "      <td>0.545455</td>\n",
              "    </tr>\n",
              "    <tr>\n",
              "      <th>1</th>\n",
              "      <td>2010-01-01 01:00:00</td>\n",
              "      <td>1020.0</td>\n",
              "      <td>0.527273</td>\n",
              "    </tr>\n",
              "    <tr>\n",
              "      <th>2</th>\n",
              "      <td>2010-01-01 02:00:00</td>\n",
              "      <td>1019.0</td>\n",
              "      <td>0.509091</td>\n",
              "    </tr>\n",
              "    <tr>\n",
              "      <th>3</th>\n",
              "      <td>2010-01-01 03:00:00</td>\n",
              "      <td>1019.0</td>\n",
              "      <td>0.509091</td>\n",
              "    </tr>\n",
              "    <tr>\n",
              "      <th>4</th>\n",
              "      <td>2010-01-01 04:00:00</td>\n",
              "      <td>1018.0</td>\n",
              "      <td>0.490909</td>\n",
              "    </tr>\n",
              "  </tbody>\n",
              "</table>\n",
              "</div>"
            ],
            "text/plain": [
              "             datetime    PRES  PRES_normalizado\n",
              "0 2010-01-01 00:00:00  1021.0          0.545455\n",
              "1 2010-01-01 01:00:00  1020.0          0.527273\n",
              "2 2010-01-01 02:00:00  1019.0          0.509091\n",
              "3 2010-01-01 03:00:00  1019.0          0.509091\n",
              "4 2010-01-01 04:00:00  1018.0          0.490909"
            ]
          },
          "metadata": {
            "tags": []
          },
          "execution_count": 28
        }
      ]
    },
    {
      "cell_type": "code",
      "metadata": {
        "id": "412CqUEfWpsJ",
        "outputId": "1664b404-9500-4132-bbb4-ec06b8d0c3e4",
        "colab": {
          "base_uri": "https://localhost:8080/",
          "height": 52
        }
      },
      "source": [
        "#dividindo os dados entre treinamento e teste   jan/2010  a 01/01/2014 / treinamento 35064, 3 e testes 8760, 3\n",
        "data_de_corte = datetime.datetime(year=2014, month=1, day=1, hour=0)  #difine a data de corte para 01/01/2014\n",
        "df_treinamento = df_pressao_atmosferica.loc[df_pressao_atmosferica['datetime']<data_de_corte]\n",
        "df_teste = df_pressao_atmosferica.loc[df_pressao_atmosferica['datetime']>=data_de_corte]\n",
        "print('Quantidade de dados para treinamento:', df_treinamento.shape)\n",
        "print('Quantidade de dados para teste:', df_teste.shape)"
      ],
      "execution_count": 29,
      "outputs": [
        {
          "output_type": "stream",
          "text": [
            "Quantidade de dados para treinamento: (35064, 3)\n",
            "Quantidade de dados para teste: (8760, 3)\n"
          ],
          "name": "stdout"
        }
      ]
    },
    {
      "cell_type": "code",
      "metadata": {
        "id": "ftvZ2PEnX65T",
        "outputId": "53061794-900c-431b-e40b-634ce5fd0ef8",
        "colab": {
          "base_uri": "https://localhost:8080/",
          "height": 476
        }
      },
      "source": [
        "#verificando \"a cara\" dos dados de treinamento \n",
        "plt.figure(figsize=(7, 7))\n",
        "g = sns.lineplot(x=df_treinamento.index,y=df_treinamento['PRES_normalizado'], color='b')\n",
        "g.set_title('Série Temporal para a pressão normalizada no treinamento do modelo')\n",
        "g.set_xlabel('Indices')\n",
        "g.set_ylabel('Leituras normalizadas')"
      ],
      "execution_count": 30,
      "outputs": [
        {
          "output_type": "execute_result",
          "data": {
            "text/plain": [
              "Text(0, 0.5, 'Leituras normalizadas')"
            ]
          },
          "metadata": {
            "tags": []
          },
          "execution_count": 30
        },
        {
          "output_type": "display_data",
          "data": {
            "image/png": "[encoded data removed]",
            "text/plain": [
              "<Figure size 504x504 with 1 Axes>"
            ]
          },
          "metadata": {
            "tags": [],
            "needs_background": "light"
          }
        }
      ]
    },
    {
      "cell_type": "code",
      "metadata": {
        "id": "rXrfMOeSYnde",
        "outputId": "054e3e00-6a13-4eaf-85c1-2074836a09e7",
        "colab": {
          "base_uri": "https://localhost:8080/",
          "height": 476
        }
      },
      "source": [
        "#verificando \"a cara\" dos dados de teste\n",
        "plt.figure(figsize=(7, 7))\n",
        "g = sns.lineplot(x=df_teste.index,y=df_teste['PRES_normalizado'], color='r')\n",
        "g.set_title('Série Temporal para a pressão normalizada no teste do modelo')\n",
        "g.set_xlabel('Indices')\n",
        "g.set_ylabel('Leituras normalizadas')"
      ],
      "execution_count": 31,
      "outputs": [
        {
          "output_type": "execute_result",
          "data": {
            "text/plain": [
              "Text(0, 0.5, 'Leituras normalizadas')"
            ]
          },
          "metadata": {
            "tags": []
          },
          "execution_count": 31
        },
        {
          "output_type": "display_data",
          "data": {
            "image/png": "[encoded data removed]",
            "text/plain": [
              "<Figure size 504x504 with 1 Axes>"
            ]
          },
          "metadata": {
            "tags": [],
            "needs_background": "light"
          }
        }
      ]
    },
    {
      "cell_type": "code",
      "metadata": {
        "id": "Jvv94VyXYxlu"
      },
      "source": [
        "#definindo o número de valores a serem utilizados para a previsão \n",
        "def formata_entrada_saida(serie_temporal_original, numero_de_passos):\n",
        "    \n",
        "    X = []\n",
        "    y = []\n",
        "    for i in range(numero_de_passos, serie_temporal_original.shape[0]):\n",
        "        X.append(list(serie_temporal_original.loc[i-numero_de_passos:i-1]))\n",
        "        y.append(serie_temporal_original.loc[i])\n",
        "    X, y = np.array(X), np.array(y)\n",
        "    return X, y    # X valor de entrada , y valor de saida"
      ],
      "execution_count": 36,
      "outputs": []
    },
    {
      "cell_type": "code",
      "metadata": {
        "id": "1dxrTEQJZ5CK",
        "outputId": "ef909cdd-4235-46e7-e4af-6c38aa1ac43d",
        "colab": {
          "base_uri": "https://localhost:8080/",
          "height": 34
        }
      },
      "source": [
        "#formata os dados para o treinamento do modelo\n",
        "X_train, y_train = formata_entrada_saida(df_treinamento['PRES_normalizado'], 10) # 35054 linhas 10 entradas\n",
        "print('Formato dos dados:', X_train.shape, y_train.shape)"
      ],
      "execution_count": 37,
      "outputs": [
        {
          "output_type": "stream",
          "text": [
            "Formato dos dados: (35054, 10) (35054,)\n"
          ],
          "name": "stdout"
        }
      ]
    },
    {
      "cell_type": "code",
      "metadata": {
        "id": "1w_BzWTIYnw-",
        "outputId": "b19ad7f4-0a44-4a62-8909-34b5b21d7f70",
        "colab": {
          "base_uri": "https://localhost:8080/",
          "height": 502
        }
      },
      "source": [
        "#plotoou 15 linhas\n",
        "X_train[1:15,:]"
      ],
      "execution_count": 38,
      "outputs": [
        {
          "output_type": "execute_result",
          "data": {
            "text/plain": [
              "array([[0.52727273, 0.50909091, 0.50909091, 0.49090909, 0.47272727,\n",
              "        0.47272727, 0.47272727, 0.47272727, 0.47272727, 0.47272727],\n",
              "       [0.50909091, 0.50909091, 0.49090909, 0.47272727, 0.47272727,\n",
              "        0.47272727, 0.47272727, 0.47272727, 0.47272727, 0.47272727],\n",
              "       [0.50909091, 0.49090909, 0.47272727, 0.47272727, 0.47272727,\n",
              "        0.47272727, 0.47272727, 0.47272727, 0.47272727, 0.43636364],\n",
              "       [0.49090909, 0.47272727, 0.47272727, 0.47272727, 0.47272727,\n",
              "        0.47272727, 0.47272727, 0.47272727, 0.43636364, 0.43636364],\n",
              "       [0.47272727, 0.47272727, 0.47272727, 0.47272727, 0.47272727,\n",
              "        0.47272727, 0.47272727, 0.43636364, 0.43636364, 0.41818182],\n",
              "       [0.47272727, 0.47272727, 0.47272727, 0.47272727, 0.47272727,\n",
              "        0.47272727, 0.43636364, 0.43636364, 0.41818182, 0.41818182],\n",
              "       [0.47272727, 0.47272727, 0.47272727, 0.47272727, 0.47272727,\n",
              "        0.43636364, 0.43636364, 0.41818182, 0.41818182, 0.43636364],\n",
              "       [0.47272727, 0.47272727, 0.47272727, 0.47272727, 0.43636364,\n",
              "        0.43636364, 0.41818182, 0.41818182, 0.43636364, 0.43636364],\n",
              "       [0.47272727, 0.47272727, 0.47272727, 0.43636364, 0.43636364,\n",
              "        0.41818182, 0.41818182, 0.43636364, 0.43636364, 0.45454545],\n",
              "       [0.47272727, 0.47272727, 0.43636364, 0.43636364, 0.41818182,\n",
              "        0.41818182, 0.43636364, 0.43636364, 0.45454545, 0.47272727],\n",
              "       [0.47272727, 0.43636364, 0.43636364, 0.41818182, 0.41818182,\n",
              "        0.43636364, 0.43636364, 0.45454545, 0.47272727, 0.47272727],\n",
              "       [0.43636364, 0.43636364, 0.41818182, 0.41818182, 0.43636364,\n",
              "        0.43636364, 0.45454545, 0.47272727, 0.47272727, 0.49090909],\n",
              "       [0.43636364, 0.41818182, 0.41818182, 0.43636364, 0.43636364,\n",
              "        0.45454545, 0.47272727, 0.47272727, 0.49090909, 0.49090909],\n",
              "       [0.41818182, 0.41818182, 0.43636364, 0.43636364, 0.45454545,\n",
              "        0.47272727, 0.47272727, 0.49090909, 0.49090909, 0.52727273]])"
            ]
          },
          "metadata": {
            "tags": []
          },
          "execution_count": 38
        }
      ]
    },
    {
      "cell_type": "code",
      "metadata": {
        "id": "bpECxjIEd1xZ",
        "outputId": "577f5de2-3c4d-4575-f641-c4f926b5e0b4",
        "colab": {
          "base_uri": "https://localhost:8080/",
          "height": 34
        }
      },
      "source": [
        "# procedimento relizado em testes semelhantes aos 10 passos da celular anterior \n",
        "X_teste, y_teste = formata_entrada_saida(df_teste['PRES_normalizado'].reset_index(drop=True),10)\n",
        "print('Formato dos dados de normalizacao:', X_teste.shape, y_teste.shape)"
      ],
      "execution_count": 39,
      "outputs": [
        {
          "output_type": "stream",
          "text": [
            "Formato dos dados de normalizacao: (8750, 10) (8750,)\n"
          ],
          "name": "stdout"
        }
      ]
    },
    {
      "cell_type": "code",
      "metadata": {
        "id": "UHZBQaZ-iQlb",
        "outputId": "4a3c95e0-3c78-4649-dc69-dd425022d936",
        "colab": {
          "base_uri": "https://localhost:8080/",
          "height": 493
        }
      },
      "source": [
        "X_teste[1:15,:]"
      ],
      "execution_count": null,
      "outputs": [
        {
          "output_type": "execute_result",
          "data": {
            "text/plain": [
              "array([[0.4       , 0.4       , 0.4       , 0.38181818, 0.38181818,\n",
              "        0.38181818, 0.4       , 0.4       , 0.41818182, 0.43636364],\n",
              "       [0.4       , 0.4       , 0.38181818, 0.38181818, 0.38181818,\n",
              "        0.4       , 0.4       , 0.41818182, 0.43636364, 0.43636364],\n",
              "       [0.4       , 0.38181818, 0.38181818, 0.38181818, 0.4       ,\n",
              "        0.4       , 0.41818182, 0.43636364, 0.43636364, 0.43636364],\n",
              "       [0.38181818, 0.38181818, 0.38181818, 0.4       , 0.4       ,\n",
              "        0.41818182, 0.43636364, 0.43636364, 0.43636364, 0.41818182],\n",
              "       [0.38181818, 0.38181818, 0.4       , 0.4       , 0.41818182,\n",
              "        0.43636364, 0.43636364, 0.43636364, 0.41818182, 0.41818182],\n",
              "       [0.38181818, 0.4       , 0.4       , 0.41818182, 0.43636364,\n",
              "        0.43636364, 0.43636364, 0.41818182, 0.41818182, 0.41818182],\n",
              "       [0.4       , 0.4       , 0.41818182, 0.43636364, 0.43636364,\n",
              "        0.43636364, 0.41818182, 0.41818182, 0.41818182, 0.41818182],\n",
              "       [0.4       , 0.41818182, 0.43636364, 0.43636364, 0.43636364,\n",
              "        0.41818182, 0.41818182, 0.41818182, 0.41818182, 0.43636364],\n",
              "       [0.41818182, 0.43636364, 0.43636364, 0.43636364, 0.41818182,\n",
              "        0.41818182, 0.41818182, 0.41818182, 0.43636364, 0.43636364],\n",
              "       [0.43636364, 0.43636364, 0.43636364, 0.41818182, 0.41818182,\n",
              "        0.41818182, 0.41818182, 0.43636364, 0.43636364, 0.45454545],\n",
              "       [0.43636364, 0.43636364, 0.41818182, 0.41818182, 0.41818182,\n",
              "        0.41818182, 0.43636364, 0.43636364, 0.45454545, 0.47272727],\n",
              "       [0.43636364, 0.41818182, 0.41818182, 0.41818182, 0.41818182,\n",
              "        0.43636364, 0.43636364, 0.45454545, 0.47272727, 0.47272727],\n",
              "       [0.41818182, 0.41818182, 0.41818182, 0.41818182, 0.43636364,\n",
              "        0.43636364, 0.45454545, 0.47272727, 0.47272727, 0.49090909],\n",
              "       [0.41818182, 0.41818182, 0.41818182, 0.43636364, 0.43636364,\n",
              "        0.45454545, 0.47272727, 0.47272727, 0.49090909, 0.50909091]])"
            ]
          },
          "metadata": {
            "tags": []
          },
          "execution_count": 24
        }
      ]
    },
    {
      "cell_type": "markdown",
      "metadata": {
        "id": "qfwyr7MUavDQ"
      },
      "source": [
        "**Inicia o processo de construção da Previsão via MLP**"
      ]
    },
    {
      "cell_type": "code",
      "metadata": {
        "id": "XcLifC-yaktD"
      },
      "source": [
        "#importando as bibliotecas \n",
        "import tensorflow as tf  #atuando no backend\n",
        "from tensorflow.keras.layers import Dense, Input, Dropout  #define os tipos de camadas a serem utilizadas pelo modelo / camada Dropout retirar alguns neuronios possibilitando o modelo aprender novas caracteristicas\n",
        "from tensorflow.keras.optimizers import SGD  #define o modelo de otimização via gradiente descendente"
      ],
      "execution_count": 41,
      "outputs": []
    },
    {
      "cell_type": "code",
      "metadata": {
        "id": "lVThdkNBbrS5"
      },
      "source": [
        "#define uma camada de entrada  Input com 10 entrada / MLP = conjunto de neuronios\n",
        "camada_entrada = Input(shape=(10,), dtype='float32')  # não precisa definir o numero de instancias do modelo (,)"
      ],
      "execution_count": 42,
      "outputs": []
    },
    {
      "cell_type": "code",
      "metadata": {
        "id": "bf4abzhCb0zu"
      },
      "source": [
        "#adiciona as camadas escondidas / amarrando a saida à entrada anterior / função activation linear / pode alterar para testar\n",
        "densa1 = Dense(32, activation='linear')(camada_entrada)\n",
        "densa2 = Dense(16, activation='linear')(densa1)\n",
        "densa3 = Dense(16, activation='linear')(densa2)"
      ],
      "execution_count": 43,
      "outputs": []
    },
    {
      "cell_type": "code",
      "metadata": {
        "id": "D4H9XOJGcFY3"
      },
      "source": [
        "#adiciona a camada de dropout como forma de regularização do modelo (ajuda a evitar overfitting) / eliminando 2.0 dos neuronios\n",
        "camada_dropout = Dropout(0.2)(densa3)"
      ],
      "execution_count": 44,
      "outputs": []
    },
    {
      "cell_type": "code",
      "metadata": {
        "id": "fQL75x9ochxw"
      },
      "source": [
        "#camada de saída da rede (1 dimensão, pois queremos prever a pressão atmosférica baseada em valores anteriores)\n",
        "camada_de_saida = Dense(1, activation='linear')(camada_dropout)"
      ],
      "execution_count": 47,
      "outputs": []
    },
    {
      "cell_type": "code",
      "metadata": {
        "id": "TFboiq55ch2r"
      },
      "source": [
        "#definindo o modelo MLP\n",
        "modelo_MLP = tf.keras.Model(inputs=camada_entrada, outputs=camada_de_saida)"
      ],
      "execution_count": 48,
      "outputs": []
    },
    {
      "cell_type": "code",
      "metadata": {
        "id": "ikC257KXdFMr",
        "outputId": "0e2375e6-31ca-4d3c-c89e-fc01b48eab52",
        "colab": {
          "base_uri": "https://localhost:8080/",
          "height": 364
        }
      },
      "source": [
        "#mostrando as características do modelo \n",
        "modelo_MLP.summary()"
      ],
      "execution_count": 49,
      "outputs": [
        {
          "output_type": "stream",
          "text": [
            "Model: \"functional_1\"\n",
            "_________________________________________________________________\n",
            "Layer (type)                 Output Shape              Param #   \n",
            "=================================================================\n",
            "input_1 (InputLayer)         [(None, 10)]              0         \n",
            "_________________________________________________________________\n",
            "dense (Dense)                (None, 32)                352       \n",
            "_________________________________________________________________\n",
            "dense_1 (Dense)              (None, 16)                528       \n",
            "_________________________________________________________________\n",
            "dense_2 (Dense)              (None, 16)                272       \n",
            "_________________________________________________________________\n",
            "dropout (Dropout)            (None, 16)                0         \n",
            "_________________________________________________________________\n",
            "dense_4 (Dense)              (None, 1)                 17        \n",
            "=================================================================\n",
            "Total params: 1,169\n",
            "Trainable params: 1,169\n",
            "Non-trainable params: 0\n",
            "_________________________________________________________________\n"
          ],
          "name": "stdout"
        }
      ]
    },
    {
      "cell_type": "code",
      "metadata": {
        "id": "XP98XnrYch73"
      },
      "source": [
        "#definindo a função de erro e o otimizador a ser utilizado \n",
        "modelo_MLP.compile(loss='mean_squared_error', optimizer='adam')  #função perda MSE e otimizador de Adam"
      ],
      "execution_count": 50,
      "outputs": []
    },
    {
      "cell_type": "code",
      "metadata": {
        "id": "EoSwfwKndZzX",
        "outputId": "f49d03e7-df24-4029-a7ab-78432d47e58d",
        "colab": {
          "base_uri": "https://localhost:8080/",
          "height": 728
        }
      },
      "source": [
        "#treina o modelo / definido 20 epocas\n",
        "modelo_MLP.fit(x=X_train, y=y_train, batch_size=16, epochs=20,verbose=1, shuffle=True)"
      ],
      "execution_count": 51,
      "outputs": [
        {
          "output_type": "stream",
          "text": [
            "Epoch 1/20\n",
            "2191/2191 [==============================] - 2s 1ms/step - loss: 0.0065\n",
            "Epoch 2/20\n",
            "2191/2191 [==============================] - 2s 1ms/step - loss: 0.0012\n",
            "Epoch 3/20\n",
            "2191/2191 [==============================] - 2s 1ms/step - loss: 8.7534e-04\n",
            "Epoch 4/20\n",
            "2191/2191 [==============================] - 2s 1ms/step - loss: 8.4066e-04\n",
            "Epoch 5/20\n",
            "2191/2191 [==============================] - 2s 1ms/step - loss: 8.0878e-04\n",
            "Epoch 6/20\n",
            "2191/2191 [==============================] - 2s 1ms/step - loss: 7.9930e-04\n",
            "Epoch 7/20\n",
            "2191/2191 [==============================] - 2s 1ms/step - loss: 7.8554e-04\n",
            "Epoch 8/20\n",
            "2191/2191 [==============================] - 2s 1ms/step - loss: 7.6919e-04\n",
            "Epoch 9/20\n",
            "2191/2191 [==============================] - 2s 1ms/step - loss: 7.6814e-04\n",
            "Epoch 10/20\n",
            "2191/2191 [==============================] - 2s 1ms/step - loss: 7.5524e-04\n",
            "Epoch 11/20\n",
            "2191/2191 [==============================] - 2s 1ms/step - loss: 7.6426e-04\n",
            "Epoch 12/20\n",
            "2191/2191 [==============================] - 3s 1ms/step - loss: 7.6721e-04\n",
            "Epoch 13/20\n",
            "2191/2191 [==============================] - 3s 1ms/step - loss: 7.5479e-04\n",
            "Epoch 14/20\n",
            "2191/2191 [==============================] - 2s 1ms/step - loss: 7.4408e-04\n",
            "Epoch 15/20\n",
            "2191/2191 [==============================] - 2s 1ms/step - loss: 7.6274e-04\n",
            "Epoch 16/20\n",
            "2191/2191 [==============================] - 2s 1ms/step - loss: 7.5624e-04\n",
            "Epoch 17/20\n",
            "2191/2191 [==============================] - 2s 1ms/step - loss: 7.5145e-04\n",
            "Epoch 18/20\n",
            "2191/2191 [==============================] - 2s 1ms/step - loss: 7.3524e-04\n",
            "Epoch 19/20\n",
            "2191/2191 [==============================] - 2s 1ms/step - loss: 7.3839e-04\n",
            "Epoch 20/20\n",
            "2191/2191 [==============================] - 2s 1ms/step - loss: 7.3953e-04\n"
          ],
          "name": "stdout"
        },
        {
          "output_type": "execute_result",
          "data": {
            "text/plain": [
              "<tensorflow.python.keras.callbacks.History at 0x7fd92a2dfef0>"
            ]
          },
          "metadata": {
            "tags": []
          },
          "execution_count": 51
        }
      ]
    },
    {
      "cell_type": "code",
      "metadata": {
        "id": "PpyeH0EygW9N",
        "outputId": "5d704c8a-a3a1-46a7-ef99-33e035374901",
        "colab": {
          "base_uri": "https://localhost:8080/",
          "height": 34
        }
      },
      "source": [
        "#realiza a previsão com o modelo MLP /  transformação inversa dos dados com 8750 linhas e 1 coluna\n",
        "previsao = modelo_MLP.predict(X_teste)\n",
        "previsao_PRES = scaler.inverse_transform(previsao)  #aplica o inverso da transformação\n",
        "previsao_PRES.shape"
      ],
      "execution_count": 53,
      "outputs": [
        {
          "output_type": "execute_result",
          "data": {
            "text/plain": [
              "(8750, 1)"
            ]
          },
          "metadata": {
            "tags": []
          },
          "execution_count": 53
        }
      ]
    },
    {
      "cell_type": "code",
      "metadata": {
        "id": "5_EIorxIg6M1",
        "outputId": "8cb7249c-f89b-41fb-d658-8477e24e73a6",
        "colab": {
          "base_uri": "https://localhost:8080/",
          "height": 34
        }
      },
      "source": [
        "previsao_PRES = np.squeeze(previsao_PRES)  #remove entradas de uma dimensão\n",
        "previsao_PRES.shape"
      ],
      "execution_count": 54,
      "outputs": [
        {
          "output_type": "execute_result",
          "data": {
            "text/plain": [
              "(8750,)"
            ]
          },
          "metadata": {
            "tags": []
          },
          "execution_count": 54
        }
      ]
    },
    {
      "cell_type": "code",
      "metadata": {
        "id": "_8NWXCbziiV2"
      },
      "source": [
        "from sklearn.metrics import r2_score  #importa o coeficiente de determinação"
      ],
      "execution_count": 55,
      "outputs": []
    },
    {
      "cell_type": "code",
      "metadata": {
        "id": "OYJmvvRaim_U",
        "outputId": "fa19ad05-1a72-4ef9-ee14-155244d1e6eb",
        "colab": {
          "base_uri": "https://localhost:8080/",
          "height": 34
        }
      },
      "source": [
        "#modelo proximo de 1 / a partir de um modelo ele conseguiu prever corretamente\n",
        "r2 = r2_score(df_teste['PRES'].iloc[10:], previsao_PRES)\n",
        "print('Coeficiente de Determinação Para o Teste (MLP):', round(r2,4))"
      ],
      "execution_count": 56,
      "outputs": [
        {
          "output_type": "stream",
          "text": [
            "Coeficiente de Determinação Para o Teste (MLP): 0.9944\n"
          ],
          "name": "stdout"
        }
      ]
    },
    {
      "cell_type": "code",
      "metadata": {
        "id": "DH40BgtAjykj",
        "outputId": "c3a7d784-cb29-4be8-81cd-a5572bf03846",
        "colab": {
          "base_uri": "https://localhost:8080/",
          "height": 476
        }
      },
      "source": [
        "#plotando os valores reais x previstos\n",
        "plt.figure(figsize=(7,7))\n",
        "plt.plot(range(50), df_teste['PRES'].iloc[10:60], linestyle='-', marker='*', color='r')\n",
        "plt.plot(range(50), previsao_PRES[:50], linestyle='-', marker='.', color='b')\n",
        "plt.legend(['Real','Previsto'], loc=2)\n",
        "plt.title('Valor de Pressão Atmosferica Medido vs Valor de Pressão Atmosférica Previsto (MLP)')\n",
        "plt.ylabel('Pressão Atmosférica')\n",
        "plt.xlabel('Indice')"
      ],
      "execution_count": 57,
      "outputs": [
        {
          "output_type": "execute_result",
          "data": {
            "text/plain": [
              "Text(0.5, 0, 'Indice')"
            ]
          },
          "metadata": {
            "tags": []
          },
          "execution_count": 57
        },
        {
          "output_type": "display_data",
          "data": {
            "image/png": "[encoded data removed]",
            "text/plain": [
              "<Figure size 504x504 with 1 Axes>"
            ]
          },
          "metadata": {
            "tags": [],
            "needs_background": "light"
          }
        }
      ]
    },
    {
      "cell_type": "markdown",
      "metadata": {
        "id": "XuCIi3JolMnB"
      },
      "source": [
        "**Inciando o processo de previsão via CNN** Rede convulucionária"
      ]
    },
    {
      "cell_type": "code",
      "metadata": {
        "id": "HgHePl7LlMDY"
      },
      "source": [
        "from tensorflow.keras.layers import Flatten  #camada flatten para transformar os dados em uma dimensão \n",
        "from tensorflow.keras.layers import ZeroPadding1D  #completa os dados após a convolução\n",
        "from tensorflow.keras.layers import Conv1D  #camada de convolução  \n",
        "from tensorflow.keras.layers import AveragePooling1D  #camada de redução (média dos dados encontrados)"
      ],
      "execution_count": 59,
      "outputs": []
    },
    {
      "cell_type": "code",
      "metadata": {
        "id": "9JZRxVofz156"
      },
      "source": [
        "#define a camada de entrada \n",
        "camada_entrada = Input(shape=(10,1), dtype='float32')"
      ],
      "execution_count": 60,
      "outputs": []
    },
    {
      "cell_type": "code",
      "metadata": {
        "id": "YQc7hAGKz7mS"
      },
      "source": [
        "#adiciona a camada de padding\n",
        "camada_padding = ZeroPadding1D(padding=1)(camada_entrada)  #matém a quantidade de dados"
      ],
      "execution_count": 61,
      "outputs": []
    },
    {
      "cell_type": "code",
      "metadata": {
        "id": "n5lxWaKp0W_t"
      },
      "source": [
        "#adiona a camada de convolução \n",
        "camada_convolucao_1D = Conv1D(64, 3, strides=1, use_bias=True)(camada_padding) #adiciona 64 filtros com uma janela de convolução=3"
      ],
      "execution_count": 62,
      "outputs": []
    },
    {
      "cell_type": "code",
      "metadata": {
        "id": "1fr8tFWQ0XCm"
      },
      "source": [
        "#camada de pooling\n",
        "camada_pooling = AveragePooling1D(pool_size=3, strides=1)(camada_convolucao_1D)  #reduz através do valor médio encontrado para a convolução (pode ser também o valor máximo)"
      ],
      "execution_count": 63,
      "outputs": []
    },
    {
      "cell_type": "code",
      "metadata": {
        "id": "mnlG39yA0XF1"
      },
      "source": [
        "#camada flatten\n",
        "camada_flatten = Flatten()(camada_pooling) #utilizada para realizar o \"reshape\" dos dados para um vetor "
      ],
      "execution_count": 64,
      "outputs": []
    },
    {
      "cell_type": "code",
      "metadata": {
        "id": "fCuENT8z3DnG"
      },
      "source": [
        "#adicionando a camada de dropout\n",
        "camada_dropout_cnn = Dropout(0.2)(camada_flatten)"
      ],
      "execution_count": 65,
      "outputs": []
    },
    {
      "cell_type": "code",
      "metadata": {
        "id": "3RCF46nv3JTk"
      },
      "source": [
        "#camada de saída\n",
        "camada_saida = Dense(1, activation='linear')(camada_dropout_cnn)"
      ],
      "execution_count": 66,
      "outputs": []
    },
    {
      "cell_type": "code",
      "metadata": {
        "id": "JLDCroYa0XLV"
      },
      "source": [
        "#contruindo o modelo\n",
        "modelo_CNN = tf.keras.Model(inputs=camada_entrada, outputs=camada_saida)"
      ],
      "execution_count": 67,
      "outputs": []
    },
    {
      "cell_type": "code",
      "metadata": {
        "id": "Z7u_n6Xi1iN4",
        "outputId": "896c4d00-26f6-4307-a0a2-2440ad253a79",
        "colab": {
          "base_uri": "https://localhost:8080/",
          "height": 398
        }
      },
      "source": [
        "#mostrando o modelo\n",
        "modelo_CNN.summary()"
      ],
      "execution_count": 68,
      "outputs": [
        {
          "output_type": "stream",
          "text": [
            "Model: \"functional_3\"\n",
            "_________________________________________________________________\n",
            "Layer (type)                 Output Shape              Param #   \n",
            "=================================================================\n",
            "input_2 (InputLayer)         [(None, 10, 1)]           0         \n",
            "_________________________________________________________________\n",
            "zero_padding1d (ZeroPadding1 (None, 12, 1)             0         \n",
            "_________________________________________________________________\n",
            "conv1d (Conv1D)              (None, 10, 64)            256       \n",
            "_________________________________________________________________\n",
            "average_pooling1d (AveragePo (None, 8, 64)             0         \n",
            "_________________________________________________________________\n",
            "flatten (Flatten)            (None, 512)               0         \n",
            "_________________________________________________________________\n",
            "dropout_1 (Dropout)          (None, 512)               0         \n",
            "_________________________________________________________________\n",
            "dense_5 (Dense)              (None, 1)                 513       \n",
            "=================================================================\n",
            "Total params: 769\n",
            "Trainable params: 769\n",
            "Non-trainable params: 0\n",
            "_________________________________________________________________\n"
          ],
          "name": "stdout"
        }
      ]
    },
    {
      "cell_type": "code",
      "metadata": {
        "id": "b8ow0iAl1otl"
      },
      "source": [
        "#adionando a função perda e o otimizados\n",
        "modelo_CNN.compile(loss='mean_absolute_error', optimizer='adam')"
      ],
      "execution_count": 69,
      "outputs": []
    },
    {
      "cell_type": "code",
      "metadata": {
        "id": "3SBl72XK3x6m",
        "outputId": "6a044642-5265-49c7-b978-5ea0efd3fd0d",
        "colab": {
          "base_uri": "https://localhost:8080/",
          "height": 34
        }
      },
      "source": [
        "#Transforma os dados de treinamento e teste para o 3D, pois a rede CNN exige essa transformação\n",
        "X_train, X_teste = X_train.reshape((X_train.shape[0], X_train.shape[1], 1)),X_teste.reshape((X_teste.shape[0], X_teste.shape[1], 1))\n",
        "print('Formatos para o treinamento e teste:', X_train.shape, X_teste.shape)"
      ],
      "execution_count": 70,
      "outputs": [
        {
          "output_type": "stream",
          "text": [
            "Formatos para o treinamento e teste: (35054, 10, 1) (8750, 10, 1)\n"
          ],
          "name": "stdout"
        }
      ]
    },
    {
      "cell_type": "code",
      "metadata": {
        "id": "TOi-Oe-I1wyW",
        "outputId": "fe1cba15-06f5-4204-f41a-a0ea71ed3d97",
        "colab": {
          "base_uri": "https://localhost:8080/",
          "height": 728
        }
      },
      "source": [
        "#realizando o treinamento do modelo\n",
        "modelo_CNN.fit(x=X_train, y=y_train, batch_size=16, epochs=20,verbose=1,shuffle=True)"
      ],
      "execution_count": 71,
      "outputs": [
        {
          "output_type": "stream",
          "text": [
            "Epoch 1/20\n",
            "2191/2191 [==============================] - 3s 1ms/step - loss: 0.0294\n",
            "Epoch 2/20\n",
            "2191/2191 [==============================] - 3s 1ms/step - loss: 0.0185\n",
            "Epoch 3/20\n",
            "2191/2191 [==============================] - 3s 1ms/step - loss: 0.0161\n",
            "Epoch 4/20\n",
            "2191/2191 [==============================] - 3s 1ms/step - loss: 0.0152\n",
            "Epoch 5/20\n",
            "2191/2191 [==============================] - 3s 1ms/step - loss: 0.0145\n",
            "Epoch 6/20\n",
            "2191/2191 [==============================] - 3s 1ms/step - loss: 0.0142\n",
            "Epoch 7/20\n",
            "2191/2191 [==============================] - 3s 1ms/step - loss: 0.0140\n",
            "Epoch 8/20\n",
            "2191/2191 [==============================] - 3s 1ms/step - loss: 0.0138\n",
            "Epoch 9/20\n",
            "2191/2191 [==============================] - 3s 1ms/step - loss: 0.0139\n",
            "Epoch 10/20\n",
            "2191/2191 [==============================] - 3s 1ms/step - loss: 0.0137\n",
            "Epoch 11/20\n",
            "2191/2191 [==============================] - 3s 1ms/step - loss: 0.0137\n",
            "Epoch 12/20\n",
            "2191/2191 [==============================] - 3s 1ms/step - loss: 0.0136\n",
            "Epoch 13/20\n",
            "2191/2191 [==============================] - 3s 1ms/step - loss: 0.0134\n",
            "Epoch 14/20\n",
            "2191/2191 [==============================] - 3s 1ms/step - loss: 0.0133\n",
            "Epoch 15/20\n",
            "2191/2191 [==============================] - 3s 1ms/step - loss: 0.0134\n",
            "Epoch 16/20\n",
            "2191/2191 [==============================] - 3s 1ms/step - loss: 0.0131\n",
            "Epoch 17/20\n",
            "2191/2191 [==============================] - 3s 1ms/step - loss: 0.0133\n",
            "Epoch 18/20\n",
            "2191/2191 [==============================] - 3s 1ms/step - loss: 0.0134\n",
            "Epoch 19/20\n",
            "2191/2191 [==============================] - 3s 1ms/step - loss: 0.0133\n",
            "Epoch 20/20\n",
            "2191/2191 [==============================] - 3s 1ms/step - loss: 0.0133\n"
          ],
          "name": "stdout"
        },
        {
          "output_type": "execute_result",
          "data": {
            "text/plain": [
              "<tensorflow.python.keras.callbacks.History at 0x7fd926e78780>"
            ]
          },
          "metadata": {
            "tags": []
          },
          "execution_count": 71
        }
      ]
    },
    {
      "cell_type": "code",
      "metadata": {
        "id": "ZLWxLA_I18Cp"
      },
      "source": [
        "#previsão CNN\n",
        "previsao_cnn = modelo_CNN.predict(X_teste)\n",
        "PRES_cnn = np.squeeze(scaler.inverse_transform(previsao_cnn))"
      ],
      "execution_count": 72,
      "outputs": []
    },
    {
      "cell_type": "code",
      "metadata": {
        "id": "GhLTtq7m2IJx",
        "outputId": "c9f3e2b3-3acb-45ca-b24f-9a3d2a6e4839",
        "colab": {
          "base_uri": "https://localhost:8080/",
          "height": 34
        }
      },
      "source": [
        "r2_cnn = r2_score(df_teste['PRES'].iloc[10:], PRES_cnn)\n",
        "print('Coeficiente de Determinação Para o Teste (CNN):', round(r2, 4))"
      ],
      "execution_count": 73,
      "outputs": [
        {
          "output_type": "stream",
          "text": [
            "Coeficiente de Determinação Para o Teste (CNN): 0.9944\n"
          ],
          "name": "stdout"
        }
      ]
    },
    {
      "cell_type": "code",
      "metadata": {
        "id": "IQpCnmHd2Ye8",
        "outputId": "4fb01a64-58dc-43e1-8f1f-14088c4b6ef6",
        "colab": {
          "base_uri": "https://localhost:8080/",
          "height": 476
        }
      },
      "source": [
        "#plotando os valores reais x previstos\n",
        "plt.figure(figsize=(7,7))\n",
        "plt.plot(range(50), df_teste['PRES'].iloc[10:60], linestyle='-', marker='*', color='r')\n",
        "plt.plot(range(50), PRES_cnn[:50], linestyle='-', marker='.', color='b')\n",
        "plt.legend(['Real','Previsto'], loc=2)\n",
        "plt.title('Valor de Pressão Atmosferica Medido vs Valor de Pressão Atmosférica Previsto (CNN)')\n",
        "plt.ylabel('Pressão Atmosférica')\n",
        "plt.xlabel('Indice')"
      ],
      "execution_count": 74,
      "outputs": [
        {
          "output_type": "execute_result",
          "data": {
            "text/plain": [
              "Text(0.5, 0, 'Indice')"
            ]
          },
          "metadata": {
            "tags": []
          },
          "execution_count": 74
        },
        {
          "output_type": "display_data",
          "data": {
            "image/png": "[encoded data removed]",
            "text/plain": [
              "<Figure size 504x504 with 1 Axes>"
            ]
          },
          "metadata": {
            "tags": [],
            "needs_background": "light"
          }
        }
      ]
    }
  ]
}